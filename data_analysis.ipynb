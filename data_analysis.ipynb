{
 "cells": [
  {
   "cell_type": "code",
   "execution_count": null,
   "metadata": {},
   "outputs": [],
   "source": [
    "import pandas as pd\n",
    "import csv\n",
    "import gzip\n",
    "\n",
    "from datetime import datetime\n",
    "from gensim.corpora import Dictionary\n",
    "\n",
    "from tqdm import tqdm_notebook\n",
    "\n",
    "from sklearn.linear_model import SGDClassifier\n",
    "from sklearn.feature_extraction.text import TfidfVectorizer, CountVectorizer\n",
    "from sklearn.metrics import balanced_accuracy_score"
   ]
  },
  {
   "cell_type": "code",
   "execution_count": null,
   "metadata": {},
   "outputs": [],
   "source": [
    "DATA_DIR = \"../data/meli\""
   ]
  },
  {
   "cell_type": "code",
   "execution_count": null,
   "metadata": {
    "scrolled": true
   },
   "outputs": [],
   "source": [
    "print(f\"{datetime.now()}\")\n",
    "dataset_train = pd.read_parquet(DATA_DIR + \"/train_tokenized.parquet\")\n",
    "print(f\"{datetime.now()}\")\n",
    "\n",
    "dataset_train.head()"
   ]
  },
  {
   "cell_type": "code",
   "execution_count": null,
   "metadata": {},
   "outputs": [],
   "source": [
    "es_df = dataset_train[dataset_train.language == \"spanish\"]\n",
    "pt_df = dataset_train[dataset_train.language == \"portuguese\"]\n",
    "\n",
    "es_df_train = es_df[es_df.split == \"train\"]\n",
    "es_df_dev = es_df[es_df.split == \"dev\"]\n",
    "\n",
    "pt_df_train = pt_df[pt_df.split == \"train\"]\n",
    "pt_df_dev = pt_df[pt_df.split == \"dev\"]"
   ]
  },
  {
   "cell_type": "code",
   "execution_count": null,
   "metadata": {},
   "outputs": [],
   "source": [
    "print(f\"{datetime.now()}\")\n",
    "dataset_test = pd.read_parquet(DATA_DIR + \"/test_tokenized.parquet\")\n",
    "print(f\"{datetime.now()}\")\n",
    "\n",
    "dataset_test.head()"
   ]
  },
  {
   "cell_type": "code",
   "execution_count": null,
   "metadata": {},
   "outputs": [],
   "source": [
    "es_df_test = dataset_test[dataset_test.language == \"spanish\"]\n",
    "pt_df_test = dataset_test[dataset_test.language == \"portuguese\"]"
   ]
  },
  {
   "cell_type": "code",
   "execution_count": null,
   "metadata": {},
   "outputs": [],
   "source": [
    "es_vec = TfidfVectorizer(input=\"content\", analyzer=lambda x: x.tolist(), max_features=20000, min_df=2)\n",
    "es_df_train_tfidf = es_vec.fit_transform(es_df_train.words)"
   ]
  },
  {
   "cell_type": "code",
   "execution_count": null,
   "metadata": {},
   "outputs": [],
   "source": [
    "es_df_dev_tfidf = es_vec.transform(es_df_dev.words)"
   ]
  },
  {
   "cell_type": "code",
   "execution_count": null,
   "metadata": {},
   "outputs": [],
   "source": [
    "es_model = SGDClassifier(n_jobs=-1, loss=\"hinge\", verbose=10, random_state=42)\n",
    "es_model.fit(es_df_train_tfidf, es_df_train.category)\n",
    "print(balanced_accuracy_score(es_df_dev.category, es_model.predict(es_df_dev_tfidf)))"
   ]
  },
  {
   "cell_type": "code",
   "execution_count": null,
   "metadata": {},
   "outputs": [],
   "source": [
    "es_model = SGDClassifier(n_jobs=-1, loss=\"hinge\", verbose=10, random_state=42)\n",
    "es_model.fit(es_df_train_tfidf, es_df_train.category)\n",
    "print(balanced_accuracy_score(es_df_dev.category, es_model.predict(es_df_dev_tfidf)))"
   ]
  },
  {
   "cell_type": "code",
   "execution_count": null,
   "metadata": {
    "scrolled": true
   },
   "outputs": [],
   "source": [
    "print(balanced_accuracy_score(es_df_dev.category, es_model.predict(es_df_dev_tfidf)))"
   ]
  },
  {
   "cell_type": "code",
   "execution_count": null,
   "metadata": {},
   "outputs": [],
   "source": [
    "es_vec_1 = CountVectorizer(input=\"content\", analyzer=lambda x: x.tolist(), max_features=20000, min_df=2)\n",
    "es_df_train_bow = es_vec_1.fit_transform(es_df_train.words)"
   ]
  },
  {
   "cell_type": "code",
   "execution_count": null,
   "metadata": {},
   "outputs": [],
   "source": [
    "es_df_dev_bow = es_vec_1.transform(es_df_dev.words)"
   ]
  },
  {
   "cell_type": "code",
   "execution_count": null,
   "metadata": {},
   "outputs": [],
   "source": [
    "from sklearn.naive_bayes import MultinomialNB"
   ]
  },
  {
   "cell_type": "code",
   "execution_count": null,
   "metadata": {},
   "outputs": [],
   "source": [
    "model = MultinomialNB()\n",
    "model.fit(es_df_train_bow, es_df_train.category)"
   ]
  },
  {
   "cell_type": "markdown",
   "metadata": {},
   "source": [
    "# Portugues"
   ]
  },
  {
   "cell_type": "code",
   "execution_count": null,
   "metadata": {},
   "outputs": [],
   "source": [
    "pt_vec = TfidfVectorizer(input=\"content\", analyzer=lambda x: x.tolist(), max_features=20000, min_df=2)\n",
    "pt_df_train_tfidf = pt_vec.fit_transform(pt_df_train.words)"
   ]
  },
  {
   "cell_type": "code",
   "execution_count": null,
   "metadata": {},
   "outputs": [],
   "source": [
    "pt_df_dev_tfidf = pt_vec.transform(pt_df_dev.words)"
   ]
  },
  {
   "cell_type": "code",
   "execution_count": null,
   "metadata": {},
   "outputs": [],
   "source": [
    "pt_model = SGDClassifier(n_jobs=-1, loss=\"log\", verbose=10, random_state=42)\n",
    "\n",
    "pt_model.fit(pt_df_train_tfidf, pt_df_train.category)\n",
    "print(balanced_accuracy_score(pt_df_train.category, pt_model.predict(pt_df_train_tfidf)))\n",
    "print(balanced_accuracy_score(pt_df_dev.category, pt_model.predict(pt_df_dev_tfidf)))"
   ]
  },
  {
   "cell_type": "code",
   "execution_count": null,
   "metadata": {},
   "outputs": [],
   "source": []
  }
 ],
 "metadata": {
  "kernelspec": {
   "display_name": "Python 3",
   "language": "python",
   "name": "python3"
  },
  "language_info": {
   "codemirror_mode": {
    "name": "ipython",
    "version": 3
   },
   "file_extension": ".py",
   "mimetype": "text/x-python",
   "name": "python",
   "nbconvert_exporter": "python",
   "pygments_lexer": "ipython3",
   "version": "3.7.3"
  }
 },
 "nbformat": 4,
 "nbformat_minor": 2
}
