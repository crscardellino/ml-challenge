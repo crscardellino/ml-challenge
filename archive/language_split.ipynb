{
 "cells": [
  {
   "cell_type": "code",
   "execution_count": 1,
   "metadata": {},
   "outputs": [],
   "source": [
    "import pandas as pd\n",
    "\n",
    "from tqdm import tqdm_notebook"
   ]
  },
  {
   "cell_type": "code",
   "execution_count": 2,
   "metadata": {},
   "outputs": [
    {
     "data": {
      "application/vnd.jupyter.widget-view+json": {
       "model_id": "79efdd0012c3406d985a4dd41b10320f",
       "version_major": 2,
       "version_minor": 0
      },
      "text/plain": [
       "HBox(children=(IntProgress(value=0, max=4), HTML(value='')))"
      ]
     },
     "metadata": {},
     "output_type": "display_data"
    },
    {
     "name": "stdout",
     "output_type": "stream",
     "text": [
      "\n"
     ]
    }
   ],
   "source": [
    "DATA_DIR = \"../../data/meli\"\n",
    "\n",
    "for dataset in tqdm_notebook([\"train_unreliable\", \"train_reliable\", \"dev\", \"test\"]):\n",
    "    df = pd.read_parquet(DATA_DIR + f\"/{dataset}.parquet\")\n",
    "    for language in [\"spanish\", \"portuguese\"]:\n",
    "        df[df[\"language\"] == language]\\\n",
    "            .reset_index(drop=True)\\\n",
    "            .to_parquet(DATA_DIR + f\"/{dataset}_{language}.parquet\", index=False)"
   ]
  }
 ],
 "metadata": {
  "kernelspec": {
   "display_name": "Python 3",
   "language": "python",
   "name": "python3"
  },
  "language_info": {
   "codemirror_mode": {
    "name": "ipython",
    "version": 3
   },
   "file_extension": ".py",
   "mimetype": "text/x-python",
   "name": "python",
   "nbconvert_exporter": "python",
   "pygments_lexer": "ipython3",
   "version": "3.7.3"
  }
 },
 "nbformat": 4,
 "nbformat_minor": 2
}
