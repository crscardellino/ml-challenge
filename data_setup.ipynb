{
 "cells": [
  {
   "cell_type": "code",
   "execution_count": null,
   "metadata": {},
   "outputs": [],
   "source": [
    "%matplotlib inline\n",
    "\n",
    "import numpy as np\n",
    "import pandas as pd\n",
    "import spacy\n",
    "\n",
    "from os import path\n",
    "from sklearn.model_selection import StratifiedShuffleSplit"
   ]
  },
  {
   "cell_type": "code",
   "execution_count": null,
   "metadata": {},
   "outputs": [],
   "source": [
    "DATA_DIR = \"../data/meli\""
   ]
  },
  {
   "cell_type": "code",
   "execution_count": null,
   "metadata": {},
   "outputs": [],
   "source": [
    "nlp_es = spacy.load(\"es\")\n",
    "nlp_pt = spacy.load(\"pt\")"
   ]
  },
  {
   "cell_type": "code",
   "execution_count": null,
   "metadata": {},
   "outputs": [],
   "source": [
    "train_data = pd.read_csv(path.join(DATA_DIR, \"train.csv.gz\"))\n",
    "test_data = pd.read_csv(path.join(DATA_DIR, \"test.csv\"))"
   ]
  },
  {
   "cell_type": "code",
   "execution_count": null,
   "metadata": {},
   "outputs": [],
   "source": [
    "train_data[\"normalized_title\"] = train_data.title.str.lower()\n",
    "train_data[\"normalized_title\"] = train_data.normalized_title.str.replace(\"\\s+\", \" \")"
   ]
  },
  {
   "cell_type": "code",
   "execution_count": null,
   "metadata": {},
   "outputs": [],
   "source": [
    "test_data[\"normalized_title\"] = test_data.title.str.lower()\n",
    "test_data[\"normalized_title\"] = test_data.normalized_title.str.replace(\"\\s+\", \" \")"
   ]
  },
  {
   "cell_type": "code",
   "execution_count": null,
   "metadata": {},
   "outputs": [],
   "source": [
    "def process_title(row):\n",
    "    if row.language == \"portuguese\":\n",
    "        doc = nlp_pt(row.normalized_title, disable=[\"parser\", \"ner\"])\n",
    "    else:\n",
    "        doc = nlp_es(row.normalized_title, disable=[\"parser\", \"ner\"])\n",
    "    \n",
    "    return [(t.text, t.pos_) for t in doc]"
   ]
  },
  {
   "cell_type": "code",
   "execution_count": null,
   "metadata": {},
   "outputs": [],
   "source": [
    "def get_list_values(series, column):\n",
    "    for reg in series:\n",
    "        yield [v[column] for v in reg]"
   ]
  },
  {
   "cell_type": "code",
   "execution_count": null,
   "metadata": {},
   "outputs": [],
   "source": [
    "train_data[\"tokens\"] = train_data.apply(process_title, axis=1)\n",
    "\n",
    "train_data[\"words\"] = [r for r in get_list_values(train_data.tokens, 0)]\n",
    "train_data[\"pos\"] = [r for r in get_list_values(train_data.tokens, 1)]"
   ]
  },
  {
   "cell_type": "code",
   "execution_count": null,
   "metadata": {},
   "outputs": [],
   "source": [
    "train_data[[\"title\", \"label_quality\", \"language\", \"words\", \"pos\", \"split\", \"category\"]].to_parquet(\n",
    "    DATA_DIR + \"/train_tokenized.parquet\", index=None\n",
    ")"
   ]
  },
  {
   "cell_type": "code",
   "execution_count": null,
   "metadata": {},
   "outputs": [],
   "source": [
    "test_data[\"tokens\"] = test_data.apply(process_title, axis=1)\n",
    "\n",
    "test_data[\"words\"] = [r for r in get_list_values(test_data.tokens, 0)]\n",
    "test_data[\"pos\"] = [r for r in get_list_values(test_data.tokens, 1)]"
   ]
  },
  {
   "cell_type": "code",
   "execution_count": null,
   "metadata": {},
   "outputs": [],
   "source": [
    "test_data[[\"id\", \"title\", \"language\", \"words\", \"pos\"]].to_parquet(\n",
    "    DATA_DIR + \"/test_tokenized.parquet\", index=None)"
   ]
  },
  {
   "cell_type": "code",
   "execution_count": null,
   "metadata": {},
   "outputs": [],
   "source": [
    "reliable_indices = train_data[train_data.label_quality == \"reliable\"].index\n",
    "\n",
    "valid_reliable_categories = train_data.loc[reliable_indices][\"category\"].value_counts()\n",
    "valid_reliable_categories = set(valid_reliable_categories[valid_reliable_categories >= 5].index)\n",
    "valid_reliable_indices = train_data[(train_data.label_quality == \"reliable\") &\n",
    "                                    (train_data.category.isin(valid_reliable_categories))].index\n",
    "\n",
    "unreliable_indices = train_data[train_data.label_quality == \"unreliable\"].index"
   ]
  },
  {
   "cell_type": "code",
   "execution_count": null,
   "metadata": {},
   "outputs": [],
   "source": [
    "sss = StratifiedShuffleSplit(n_splits=1, test_size=0.05, random_state=42)\n",
    "train_index_reliable, dev_index_reliable = next(sss.split(train_data.loc[valid_reliable_indices],\n",
    "                                                          train_data.loc[valid_reliable_indices][\"category\"]))\n",
    "\n",
    "sss = StratifiedShuffleSplit(n_splits=1, test_size=0.05, random_state=42)\n",
    "train_index_unreliable, dev_index_unreliable = next(sss.split(train_data.loc[unreliable_indices],\n",
    "                                                              train_data.loc[unreliable_indices][\"category\"]))"
   ]
  },
  {
   "cell_type": "code",
   "execution_count": null,
   "metadata": {},
   "outputs": [],
   "source": [
    "train_index = np.hstack([\n",
    "    train_data.loc[valid_reliable_indices].iloc[train_index_reliable].index.values,\n",
    "    train_data.loc[unreliable_indices].iloc[train_index_unreliable].index.values\n",
    "])\n",
    "\n",
    "dev_index = np.hstack([\n",
    "    train_data.loc[valid_reliable_indices].iloc[dev_index_reliable].index.values,\n",
    "    train_data.loc[unreliable_indices].iloc[dev_index_unreliable].index.values\n",
    "])"
   ]
  },
  {
   "cell_type": "code",
   "execution_count": null,
   "metadata": {},
   "outputs": [],
   "source": [
    "train_data.loc[train_index, \"split\"] = \"train\"\n",
    "train_data.loc[dev_index, \"split\"] = \"dev\"\n",
    "train_data.split.fillna(\"dev\", inplace=True)"
   ]
  },
  {
   "cell_type": "code",
   "execution_count": null,
   "metadata": {},
   "outputs": [],
   "source": [
    "train_data.category.value_counts()"
   ]
  },
  {
   "cell_type": "code",
   "execution_count": null,
   "metadata": {},
   "outputs": [],
   "source": [
    "train_data[train_data.split==\"dev\"].category.value_counts()"
   ]
  },
  {
   "cell_type": "code",
   "execution_count": null,
   "metadata": {},
   "outputs": [],
   "source": [
    "train_data[train_data.split==\"dev\"].groupby([\"language\", \"label_quality\"]).size()"
   ]
  },
  {
   "cell_type": "code",
   "execution_count": null,
   "metadata": {},
   "outputs": [],
   "source": [
    "train_data.to_parquet(path.join(DATA_DIR, \"./train_tokenized.parquet\"), index=None)"
   ]
  }
 ],
 "metadata": {
  "kernelspec": {
   "display_name": "Python 3",
   "language": "python",
   "name": "python3"
  },
  "language_info": {
   "codemirror_mode": {
    "name": "ipython",
    "version": 3
   },
   "file_extension": ".py",
   "mimetype": "text/x-python",
   "name": "python",
   "nbconvert_exporter": "python",
   "pygments_lexer": "ipython3",
   "version": "3.7.3"
  }
 },
 "nbformat": 4,
 "nbformat_minor": 2
}
