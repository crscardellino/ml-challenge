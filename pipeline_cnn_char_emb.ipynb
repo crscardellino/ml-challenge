{
 "cells": [
  {
   "cell_type": "code",
   "execution_count": 1,
   "metadata": {},
   "outputs": [],
   "source": [
    "import numpy as np\n",
    "import pandas as pd\n",
    "import re\n",
    "import tensorflow as tf\n",
    "\n",
    "from gensim.models import KeyedVectors\n",
    "from nltk import word_tokenize\n",
    "from nltk.corpus import stopwords\n",
    "from nltk.stem import SnowballStemmer\n",
    "from os import path\n",
    "from sklearn.metrics import balanced_accuracy_score\n",
    "from sklearn.preprocessing import LabelEncoder\n",
    "from string import punctuation\n",
    "from tensorflow.keras.layers import Concatenate, Conv1D, Dense, Embedding, GlobalMaxPooling1D, Input, TimeDistributed\n",
    "from tensorflow.keras.models import Model\n",
    "from tensorflow.keras.preprocessing.sequence import pad_sequences\n",
    "from tensorflow.keras.utils import to_categorical\n",
    "from tqdm import tqdm_notebook\n",
    "from unidecode import unidecode\n",
    "\n",
    "np.random.seed(42)\n",
    "tf.compat.v1.random.set_random_seed(42)"
   ]
  },
  {
   "cell_type": "markdown",
   "metadata": {},
   "source": [
    "# Data Ingestion"
   ]
  },
  {
   "cell_type": "markdown",
   "metadata": {},
   "source": [
    "## Dataset constants"
   ]
  },
  {
   "cell_type": "code",
   "execution_count": 2,
   "metadata": {},
   "outputs": [],
   "source": [
    "DIR_PATH = \"../data/\"\n",
    "LANGUAGE = \"spanish\"\n",
    "DROP_COLUMNS = [\"split\", \"language\"]\n",
    "UNRELIABLE_SAMPLING = 0.25"
   ]
  },
  {
   "cell_type": "markdown",
   "metadata": {},
   "source": [
    "## Dataset Loading"
   ]
  },
  {
   "cell_type": "code",
   "execution_count": 3,
   "metadata": {},
   "outputs": [
    {
     "data": {
      "application/vnd.jupyter.widget-view+json": {
       "model_id": "76bb0739f172453cbefd3c2173297df0",
       "version_major": 2,
       "version_minor": 0
      },
      "text/plain": [
       "HBox(children=(IntProgress(value=0, max=4), HTML(value='')))"
      ]
     },
     "metadata": {},
     "output_type": "display_data"
    },
    {
     "name": "stdout",
     "output_type": "stream",
     "text": [
      "\n",
      "CPU times: user 1min 20s, sys: 17.4 s, total: 1min 37s\n",
      "Wall time: 1min 17s\n"
     ]
    }
   ],
   "source": [
    "%%time\n",
    "def load_data(base_path, language, drop_columns, unreliable_sampling):\n",
    "    datasets = {}\n",
    "    for ds in tqdm_notebook([\"train_reliable\", \"train_unreliable\", \"dev\", \"test\"]):\n",
    "        if ds == \"train_unreliable\" and unreliable_sampling == 0:\n",
    "            continue\n",
    "        \n",
    "        df = pd.read_parquet(\n",
    "            path.join(base_path, f\"{language}\", f\"{ds}.parquet\")\n",
    "        ).drop(drop_columns, axis=1, errors=\"ignore\")\n",
    "        \n",
    "        if ds == \"train_unreliable\" and 0 < unreliable_sampling < 1:\n",
    "            df = df.groupby([\"category\"]).apply(\n",
    "                lambda cat: cat.sample(frac=unreliable_sampling)\n",
    "            ).reset_index(drop=True)\n",
    "        elif ds == \"train_unreliable\" and unreliable_sampling > 1:\n",
    "            df = df.groupby([\"category\"]).apply(\n",
    "                lambda cat: cat.sample(n=int(unreliable_sampling))\n",
    "            ).reset_index(drop=True)\n",
    "        \n",
    "        if ds == \"train_reliable\":\n",
    "            datasets[\"train\"] = df\n",
    "        elif ds == \"train_unreliable\":\n",
    "            datasets[\"train\"] = pd.concat([\n",
    "                datasets[\"train\"],\n",
    "                df\n",
    "            ], ignore_index=True)\n",
    "        else:\n",
    "            datasets[ds] = df\n",
    "    \n",
    "    w2v = KeyedVectors.load_word2vec_format(\n",
    "        path.join(base_path, f\"{language}\", \"word2vec.bin.gz\"), \n",
    "        binary=True\n",
    "    )\n",
    "    \n",
    "    return datasets, w2v\n",
    "\n",
    "datasets, w2v = load_data(DIR_PATH, LANGUAGE, DROP_COLUMNS, UNRELIABLE_SAMPLING)"
   ]
  },
  {
   "cell_type": "markdown",
   "metadata": {},
   "source": [
    "# Data Preprocessing"
   ]
  },
  {
   "cell_type": "markdown",
   "metadata": {},
   "source": [
    "## Label Encoding"
   ]
  },
  {
   "cell_type": "code",
   "execution_count": 4,
   "metadata": {},
   "outputs": [
    {
     "name": "stdout",
     "output_type": "stream",
     "text": [
      "CPU times: user 10.5 s, sys: 1.38 s, total: 11.9 s\n",
      "Wall time: 4.97 s\n"
     ]
    }
   ],
   "source": [
    "%%time\n",
    "def label_encoder(*dfs):\n",
    "    labels = pd.concat(dfs)[\"category\"].tolist()\n",
    "    lbl_enc = LabelEncoder().fit(labels)\n",
    "\n",
    "    return lbl_enc\n",
    "\n",
    "lbl_enc = label_encoder(datasets[\"train\"], datasets[\"dev\"])\n",
    "\n",
    "for split in [\"train\", \"dev\"]:\n",
    "    datasets[split][\"target\"] = lbl_enc.transform(datasets[split][\"category\"])\n",
    "    datasets[split].drop([\"category\"], axis=1, inplace=True)"
   ]
  },
  {
   "cell_type": "markdown",
   "metadata": {},
   "source": [
    "## Text curation"
   ]
  },
  {
   "cell_type": "markdown",
   "metadata": {},
   "source": [
    "### Punctuation removal"
   ]
  },
  {
   "cell_type": "code",
   "execution_count": 5,
   "metadata": {},
   "outputs": [
    {
     "data": {
      "application/vnd.jupyter.widget-view+json": {
       "model_id": "fa4b5a44c9d5409bbf3af4fdf88abd08",
       "version_major": 2,
       "version_minor": 0
      },
      "text/plain": [
       "HBox(children=(IntProgress(value=0, max=3), HTML(value='')))"
      ]
     },
     "metadata": {},
     "output_type": "display_data"
    },
    {
     "name": "stdout",
     "output_type": "stream",
     "text": [
      "\n",
      "CPU times: user 11.9 s, sys: 720 ms, total: 12.6 s\n",
      "Wall time: 11.2 s\n"
     ]
    }
   ],
   "source": [
    "%%time\n",
    "\n",
    "def remove_punctuation(datasets, punctuation, column=\"tokens\"):\n",
    "    for split in tqdm_notebook(datasets):\n",
    "        datasets[split][\"non_punct_tokens\"] = datasets[split][column].apply(\n",
    "            lambda words: [w for w in words if w not in punctuation]\n",
    "        )\n",
    "    return datasets\n",
    "\n",
    "datasets = remove_punctuation(datasets, punctuation, \"words\")"
   ]
  },
  {
   "cell_type": "markdown",
   "metadata": {},
   "source": [
    "### Stopwords removal"
   ]
  },
  {
   "cell_type": "code",
   "execution_count": 6,
   "metadata": {},
   "outputs": [
    {
     "data": {
      "application/vnd.jupyter.widget-view+json": {
       "model_id": "6650eb29c7f34ac79f6412b2593fb0f6",
       "version_major": 2,
       "version_minor": 0
      },
      "text/plain": [
       "HBox(children=(IntProgress(value=0, max=3), HTML(value='')))"
      ]
     },
     "metadata": {},
     "output_type": "display_data"
    },
    {
     "name": "stdout",
     "output_type": "stream",
     "text": [
      "\n",
      "CPU times: user 5.81 s, sys: 156 ms, total: 5.97 s\n",
      "Wall time: 5.96 s\n"
     ]
    }
   ],
   "source": [
    "%%time\n",
    "\n",
    "def remove_stopwords(datasets, stopwords, column=\"tokens\"):\n",
    "    for split in tqdm_notebook(datasets):\n",
    "        datasets[split][\"non_sw_tokens\"] = datasets[split][column].apply(\n",
    "            lambda words: [w for w in words if w not in stopwords]\n",
    "        )\n",
    "    return datasets\n",
    "\n",
    "datasets = remove_stopwords(datasets, set(stopwords.words(LANGUAGE)), \"non_punct_tokens\")"
   ]
  },
  {
   "cell_type": "markdown",
   "metadata": {},
   "source": [
    "### Word Vectorization"
   ]
  },
  {
   "cell_type": "code",
   "execution_count": 17,
   "metadata": {},
   "outputs": [
    {
     "data": {
      "application/vnd.jupyter.widget-view+json": {
       "model_id": "a1e21d79aea949fea2f1ab11fe00a2e1",
       "version_major": 2,
       "version_minor": 0
      },
      "text/plain": [
       "HBox(children=(IntProgress(value=0, max=3), HTML(value='')))"
      ]
     },
     "metadata": {},
     "output_type": "display_data"
    },
    {
     "name": "stdout",
     "output_type": "stream",
     "text": [
      "\n",
      "CPU times: user 2min 25s, sys: 571 ms, total: 2min 26s\n",
      "Wall time: 2min 26s\n"
     ]
    }
   ],
   "source": [
    "%%time\n",
    "\n",
    "def word_with_vector(word, w2v, stemmer):\n",
    "    if word in w2v:\n",
    "        return word\n",
    "    elif word.capitalize() in w2v:\n",
    "        return word.capitalize()\n",
    "    elif unidecode(word) in w2v:\n",
    "        return unidecode(word)\n",
    "    elif unidecode(word.capitalize()) in w2v:\n",
    "        return unidecode(word.capitalize())\n",
    "    elif stemmer.stem(word) in w2v:\n",
    "        return stemmer.stem(word)\n",
    "    elif word.isdigit():\n",
    "        return \"DIGITO\"\n",
    "    else:\n",
    "        return \"<UNK>\"\n",
    "    # TODO: Lemmatization? Other normalizations?\n",
    "\n",
    "def word_vectorize(datasets, language, w2v, column=\"tokens\"):\n",
    "    stemmer = SnowballStemmer(language)\n",
    "    for split in tqdm_notebook(datasets):\n",
    "        datasets[split][\"normalized_tokens\"] = datasets[split][column].apply(\n",
    "            lambda words: [word_with_vector(w, w2v, stemmer) for w in words]\n",
    "        )\n",
    "    return datasets\n",
    "\n",
    "datasets = word_vectorize(datasets, LANGUAGE, w2v, \"non_sw_tokens\")"
   ]
  },
  {
   "cell_type": "code",
   "execution_count": 18,
   "metadata": {},
   "outputs": [
    {
     "name": "stdout",
     "output_type": "stream",
     "text": [
      "Vocab length: 118201\n",
      "CPU times: user 10.7 s, sys: 852 ms, total: 11.6 s\n",
      "Wall time: 8.29 s\n"
     ]
    }
   ],
   "source": [
    "%%time\n",
    "def words_to_idx(all_words, w2v, null_token=\"<NULL>\",\n",
    "                 unknown_token=\"<UNK>\", num_token=\"DIGITO\"):\n",
    "    word_index = {word for words in all_words for word in words if word in w2v}\n",
    "    word_index = {word: idx for idx, word in enumerate(sorted(word_index), start=1)}\n",
    "    word_index[null_token] = 0\n",
    "    if num_token not in word_index:\n",
    "        word_index[num_token] = len(word_index)\n",
    "    word_index[unknown_token] = len(word_index)\n",
    "\n",
    "    return word_index\n",
    "\n",
    "word_index = words_to_idx(pd.concat(list(datasets.values()), sort=False)[\"normalized_tokens\"], w2v)\n",
    "\n",
    "print(f\"Vocab length: {len(word_index)}\")"
   ]
  },
  {
   "cell_type": "markdown",
   "metadata": {},
   "source": [
    "## Characters Preprocessing"
   ]
  },
  {
   "cell_type": "code",
   "execution_count": 23,
   "metadata": {},
   "outputs": [
    {
     "name": "stdout",
     "output_type": "stream",
     "text": [
      "CPU times: user 1.66 s, sys: 170 µs, total: 1.66 s\n",
      "Wall time: 1.66 s\n"
     ]
    }
   ],
   "source": [
    "%%time\n",
    "def normalize_titles(datasets, column=\"tokens\"):\n",
    "    for split in datasets:\n",
    "        datasets[split][\"normalized_title\"] = datasets[split][column].apply(lambda tokens: \" \".join(tokens))\n",
    "    return datasets\n",
    "\n",
    "datasets = normalize_titles(datasets, \"non_sw_tokens\")"
   ]
  },
  {
   "cell_type": "code",
   "execution_count": 42,
   "metadata": {},
   "outputs": [
    {
     "name": "stdout",
     "output_type": "stream",
     "text": [
      "Char vocab length: 135\n",
      "CPU times: user 7.15 s, sys: 202 ms, total: 7.35 s\n",
      "Wall time: 5.27 s\n"
     ]
    }
   ],
   "source": [
    "%%time\n",
    "def chars_to_idx(titles, null_token=\"<NULL>\", unknown_token=\"<UNK>\"):\n",
    "    char_index = {char for title in titles for char in title}\n",
    "    char_index = {char: idx for idx, char in enumerate(sorted(char_index), start=1)}\n",
    "    char_index[null_token] = 0\n",
    "    char_index[unknown_token] = len(char_index)\n",
    "\n",
    "    return char_index\n",
    "\n",
    "char_index = chars_to_idx(\n",
    "    pd.concat(\n",
    "        list(datasets.values()), \n",
    "        ignore_index=True, \n",
    "        sort=False\n",
    "    )[\"normalized_tokens\"].apply(lambda tokens: \" \".join(tokens))\n",
    ")\n",
    "\n",
    "print(f\"Char vocab length: {len(char_index)}\")"
   ]
  },
  {
   "cell_type": "markdown",
   "metadata": {},
   "source": [
    "# Network Data Preparation"
   ]
  },
  {
   "cell_type": "markdown",
   "metadata": {},
   "source": [
    "## Word Sequences"
   ]
  },
  {
   "cell_type": "code",
   "execution_count": 48,
   "metadata": {},
   "outputs": [
    {
     "name": "stdout",
     "output_type": "stream",
     "text": [
      "CPU times: user 19.7 s, sys: 159 ms, total: 19.8 s\n",
      "Wall time: 19.8 s\n"
     ]
    }
   ],
   "source": [
    "%%time\n",
    "\n",
    "WORD_MAX_SEQUENCE_LEN = 15\n",
    "\n",
    "def word_sequence_padding(series, word_index, max_len):\n",
    "    return pad_sequences(\n",
    "            series.apply(\n",
    "                lambda words: [word_index.get(word, word_index[\"<UNK>\"]) for word in words]\n",
    "            ).tolist(), maxlen=max_len\n",
    "        )\n",
    "\n",
    "train_word_sequences = word_sequence_padding(\n",
    "    datasets[\"train\"][\"normalized_tokens\"], word_index, WORD_MAX_SEQUENCE_LEN\n",
    ")\n",
    "\n",
    "dev_word_sequences = word_sequence_padding(\n",
    "    datasets[\"dev\"][\"normalized_tokens\"], word_index, WORD_MAX_SEQUENCE_LEN\n",
    ")\n",
    "\n",
    "test_word_sequences = word_sequence_padding(\n",
    "    datasets[\"test\"][\"normalized_tokens\"], word_index, WORD_MAX_SEQUENCE_LEN\n",
    ")"
   ]
  },
  {
   "cell_type": "code",
   "execution_count": 49,
   "metadata": {},
   "outputs": [
    {
     "name": "stdout",
     "output_type": "stream",
     "text": [
      "CPU times: user 375 ms, sys: 60.1 ms, total: 435 ms\n",
      "Wall time: 433 ms\n"
     ]
    }
   ],
   "source": [
    "%%time\n",
    "def get_embedding_matrix(word_index, w2v):\n",
    "    embedding_matrix = np.zeros((len(word_index), w2v.vector_size))\n",
    "\n",
    "    for word, i in word_index.items():\n",
    "        if word in w2v and word not in {\"<NULL>\", \"<UNK>\", \"<NUM>\"}:\n",
    "            embedding_matrix[i] = w2v[word]\n",
    "        elif word == \"<UNK>\" or word == \"<NUM>\":\n",
    "            embedding_matrix[i] = np.random.normal(size=(w2v.vector_size,))\n",
    "\n",
    "    return embedding_matrix\n",
    "\n",
    "word_embedding_matrix = get_embedding_matrix(word_index, w2v)"
   ]
  },
  {
   "cell_type": "markdown",
   "metadata": {},
   "source": [
    "## Character Sequences"
   ]
  },
  {
   "cell_type": "code",
   "execution_count": 93,
   "metadata": {},
   "outputs": [
    {
     "name": "stdout",
     "output_type": "stream",
     "text": [
      "CPU times: user 2min 50s, sys: 2.87 s, total: 2min 53s\n",
      "Wall time: 2min 52s\n"
     ]
    }
   ],
   "source": [
    "%%time\n",
    "\n",
    "CHAR_MAX_SEQUENCE_LEN = 10\n",
    "\n",
    "def char_sequence_padding(series, char_index, char_max_len, word_max_len):\n",
    "    return pad_sequences(\n",
    "        series.apply(\n",
    "            lambda words: pad_sequences([\n",
    "                [char_index.get(char, char_index[\"<UNK>\"]) for char in word]\n",
    "            for word in words], maxlen=char_max_len)\n",
    "    ), maxlen=word_max_len, value=np.zeros(char_max_len))\n",
    "\n",
    "train_char_sequences = char_sequence_padding(\n",
    "    datasets[\"train\"][\"normalized_tokens\"], char_index, CHAR_MAX_SEQUENCE_LEN, WORD_MAX_SEQUENCE_LEN\n",
    ")\n",
    "\n",
    "dev_char_sequences = char_sequence_padding(\n",
    "    datasets[\"dev\"][\"normalized_tokens\"], char_index, CHAR_MAX_SEQUENCE_LEN, WORD_MAX_SEQUENCE_LEN\n",
    ")\n",
    "\n",
    "test_char_sequences = char_sequence_padding(\n",
    "    datasets[\"test\"][\"normalized_tokens\"], char_index, CHAR_MAX_SEQUENCE_LEN, WORD_MAX_SEQUENCE_LEN\n",
    ")"
   ]
  },
  {
   "cell_type": "markdown",
   "metadata": {},
   "source": [
    "## Targets"
   ]
  },
  {
   "cell_type": "code",
   "execution_count": 58,
   "metadata": {},
   "outputs": [
    {
     "name": "stdout",
     "output_type": "stream",
     "text": [
      "CPU times: user 616 ms, sys: 3.93 s, total: 4.54 s\n",
      "Wall time: 4.54 s\n"
     ]
    }
   ],
   "source": [
    "%%time\n",
    "\n",
    "train_target = to_categorical(\n",
    "    datasets[\"train\"][\"target\"].tolist(),\n",
    "    num_classes=lbl_enc.classes_.shape[0]\n",
    ")\n",
    "\n",
    "dev_target = to_categorical(\n",
    "    datasets[\"dev\"][\"target\"].tolist(),\n",
    "    num_classes=lbl_enc.classes_.shape[0]\n",
    ")"
   ]
  },
  {
   "cell_type": "markdown",
   "metadata": {},
   "source": [
    "# CNN Building"
   ]
  },
  {
   "cell_type": "markdown",
   "metadata": {},
   "source": [
    "## Model Constants"
   ]
  },
  {
   "cell_type": "code",
   "execution_count": 116,
   "metadata": {},
   "outputs": [],
   "source": [
    "WORD_FILTERS_LEN = [2, 3, 4, 5]\n",
    "WORD_FILTER_COUNT = 128\n",
    "\n",
    "CHAR_FILTERS_LEN = [3, 4]\n",
    "CHAR_FILTER_COUNT = 32\n",
    "CHAR_VECTOR_SIZE = 32\n",
    "\n",
    "ACTIVATION = \"relu\"\n",
    "PADDING = \"same\""
   ]
  },
  {
   "cell_type": "markdown",
   "metadata": {},
   "source": [
    "## Model Building"
   ]
  },
  {
   "cell_type": "code",
   "execution_count": 117,
   "metadata": {},
   "outputs": [
    {
     "name": "stdout",
     "output_type": "stream",
     "text": [
      "Model: \"model_4\"\n",
      "__________________________________________________________________________________________________\n",
      "Layer (type)                    Output Shape         Param #     Connected to                     \n",
      "==================================================================================================\n",
      "input_16 (InputLayer)           [(None, 15, 10)]     0                                            \n",
      "__________________________________________________________________________________________________\n",
      "time_distributed_28 (TimeDistri (None, 15, 10, 32)   4320        input_16[0][0]                   \n",
      "__________________________________________________________________________________________________\n",
      "input_17 (InputLayer)           [(None, 15)]         0                                            \n",
      "__________________________________________________________________________________________________\n",
      "time_distributed_29 (TimeDistri (None, 15, 10, 32)   3104        time_distributed_28[0][0]        \n",
      "__________________________________________________________________________________________________\n",
      "time_distributed_31 (TimeDistri (None, 15, 10, 32)   4128        time_distributed_28[0][0]        \n",
      "__________________________________________________________________________________________________\n",
      "embedding_16 (Embedding)        (None, 15, 300)      35460300    input_17[0][0]                   \n",
      "__________________________________________________________________________________________________\n",
      "time_distributed_30 (TimeDistri (None, 15, 32)       0           time_distributed_29[0][0]        \n",
      "__________________________________________________________________________________________________\n",
      "time_distributed_32 (TimeDistri (None, 15, 32)       0           time_distributed_31[0][0]        \n",
      "__________________________________________________________________________________________________\n",
      "concatenate_13 (Concatenate)    (None, 15, 364)      0           embedding_16[0][0]               \n",
      "                                                                 time_distributed_30[0][0]        \n",
      "                                                                 time_distributed_32[0][0]        \n",
      "__________________________________________________________________________________________________\n",
      "conv1d_33 (Conv1D)              (None, 15, 128)      93312       concatenate_13[0][0]             \n",
      "__________________________________________________________________________________________________\n",
      "conv1d_34 (Conv1D)              (None, 15, 128)      139904      concatenate_13[0][0]             \n",
      "__________________________________________________________________________________________________\n",
      "conv1d_35 (Conv1D)              (None, 15, 128)      186496      concatenate_13[0][0]             \n",
      "__________________________________________________________________________________________________\n",
      "conv1d_36 (Conv1D)              (None, 15, 128)      233088      concatenate_13[0][0]             \n",
      "__________________________________________________________________________________________________\n",
      "global_max_pooling1d_31 (Global (None, 128)          0           conv1d_33[0][0]                  \n",
      "__________________________________________________________________________________________________\n",
      "global_max_pooling1d_32 (Global (None, 128)          0           conv1d_34[0][0]                  \n",
      "__________________________________________________________________________________________________\n",
      "global_max_pooling1d_33 (Global (None, 128)          0           conv1d_35[0][0]                  \n",
      "__________________________________________________________________________________________________\n",
      "global_max_pooling1d_34 (Global (None, 128)          0           conv1d_36[0][0]                  \n",
      "__________________________________________________________________________________________________\n",
      "concatenate_14 (Concatenate)    (None, 512)          0           global_max_pooling1d_31[0][0]    \n",
      "                                                                 global_max_pooling1d_32[0][0]    \n",
      "                                                                 global_max_pooling1d_33[0][0]    \n",
      "                                                                 global_max_pooling1d_34[0][0]    \n",
      "__________________________________________________________________________________________________\n",
      "dense_5 (Dense)                 (None, 1573)         806949      concatenate_14[0][0]             \n",
      "==================================================================================================\n",
      "Total params: 36,931,601\n",
      "Trainable params: 1,471,301\n",
      "Non-trainable params: 35,460,300\n",
      "__________________________________________________________________________________________________\n"
     ]
    }
   ],
   "source": [
    "def build_model(word_vocab_size, word_vector_size, word_embedding_matrix,\n",
    "                char_vocab_size, char_vector_size, output_size,\n",
    "                word_max_sequence_len, char_max_sequence_len,\n",
    "                word_filters_len, word_filter_count, \n",
    "                char_filters_len, char_filter_count,\n",
    "                activation=\"relu\", padding=\"same\"):\n",
    "\n",
    "    char_sequence_input = Input(shape=(word_max_sequence_len, char_max_sequence_len))\n",
    "    word_sequence_input = Input(shape=(word_max_sequence_len,))\n",
    "    \n",
    "    char_embedded_sequences = TimeDistributed(\n",
    "        Embedding(\n",
    "            input_dim=char_vocab_size, \n",
    "            output_dim=char_vector_size,\n",
    "            embeddings_initializer=\"truncated_normal\",  # TODO: Change this?\n",
    "            trainable=True\n",
    "        ))(char_sequence_input)\n",
    "\n",
    "    word_embedding_layer = Embedding(word_vocab_size, word_vector_size,\n",
    "                                     weights=[word_embedding_matrix],\n",
    "                                     input_length=word_max_sequence_len,\n",
    "                                     trainable=False)\n",
    "    word_embedded_sequences = word_embedding_layer(word_sequence_input)\n",
    "\n",
    "    char_layers = []\n",
    "    for filter_len in char_filters_len:\n",
    "        char_layer = TimeDistributed(\n",
    "            Conv1D(\n",
    "                char_filter_count,\n",
    "                filter_len,\n",
    "                activation=activation, # TODO: No activation?\n",
    "                padding=padding\n",
    "            )\n",
    "        )(char_embedded_sequences)\n",
    "        char_layers.append(TimeDistributed(GlobalMaxPooling1D())(char_layer))\n",
    "    \n",
    "    word_layer = Concatenate()([word_embedded_sequences] + char_layers)\n",
    "    \n",
    "    layers = []\n",
    "    for filter_len in word_filters_len:\n",
    "        layer = Conv1D(\n",
    "            word_filter_count,\n",
    "            filter_len,\n",
    "            activation=activation,\n",
    "            padding=padding\n",
    "        )(word_layer)\n",
    "        layers.append(GlobalMaxPooling1D()(layer))\n",
    "\n",
    "    layer = Concatenate()(layers)\n",
    "    preds = Dense(output_size, activation=\"softmax\")(layer)\n",
    "    model = Model(inputs=[word_sequence_input, char_sequence_input], outputs=[preds])\n",
    "\n",
    "    return model\n",
    "\n",
    "model = build_model(\n",
    "    word_vocab_size=len(word_index),\n",
    "    word_vector_size=w2v.vector_size, \n",
    "    word_embedding_matrix=word_embedding_matrix,\n",
    "    char_vocab_size=len(char_index),\n",
    "    char_vector_size=CHAR_VECTOR_SIZE,\n",
    "    output_size=lbl_enc.classes_.shape[0],\n",
    "    word_max_sequence_len=WORD_MAX_SEQUENCE_LEN,\n",
    "    char_max_sequence_len=CHAR_MAX_SEQUENCE_LEN,\n",
    "    word_filters_len=WORD_FILTERS_LEN,\n",
    "    word_filter_count=WORD_FILTER_COUNT,\n",
    "    char_filters_len=CHAR_FILTERS_LEN,\n",
    "    char_filter_count=CHAR_FILTER_COUNT,\n",
    "    activation=ACTIVATION,\n",
    "    padding=PADDING\n",
    ")\n",
    "\n",
    "model.compile(\n",
    "    optimizer=\"nadam\",\n",
    "    loss=\"categorical_crossentropy\",\n",
    "    metrics=[\"accuracy\"]\n",
    ")\n",
    "\n",
    "model.summary()"
   ]
  },
  {
   "cell_type": "markdown",
   "metadata": {},
   "source": [
    "# Fitting the CNN"
   ]
  },
  {
   "cell_type": "code",
   "execution_count": null,
   "metadata": {
    "scrolled": true
   },
   "outputs": [
    {
     "name": "stdout",
     "output_type": "stream",
     "text": [
      "Train on 2725070 samples, validate on 499625 samples\n",
      "Epoch 1/5\n",
      "2725070/2725070 [==============================] - 240s 88us/sample - loss: 2.0562 - accuracy: 0.6457 - val_loss: 1.2401 - val_accuracy: 0.7575\n",
      "Epoch 2/5\n",
      "1622016/2725070 [================>.............] - ETA: 1:26 - loss: 1.0219 - accuracy: 0.7977"
     ]
    }
   ],
   "source": [
    "model.fit(\n",
    "    x=(train_word_sequences, train_char_sequences),\n",
    "    y=train_target,\n",
    "    batch_size=4096,\n",
    "    epochs=5,\n",
    "    validation_data=(\n",
    "        (dev_word_sequences, dev_char_sequences),\n",
    "        dev_target\n",
    "    ),\n",
    "    validation_freq=1\n",
    ")"
   ]
  },
  {
   "cell_type": "code",
   "execution_count": null,
   "metadata": {},
   "outputs": [],
   "source": [
    "datasets[\"dev\"][\"predictions\"] = model.predict(\n",
    "    dev_word_sequences, batch_size=1024, verbose=0\n",
    ").argmax(axis=1)"
   ]
  },
  {
   "cell_type": "code",
   "execution_count": null,
   "metadata": {},
   "outputs": [],
   "source": [
    "balanced_accuracy_score(datasets[\"dev\"][\"target\"], datasets[\"dev\"][\"predictions\"])"
   ]
  },
  {
   "cell_type": "code",
   "execution_count": null,
   "metadata": {},
   "outputs": [],
   "source": []
  }
 ],
 "metadata": {
  "kernelspec": {
   "display_name": "Python 3",
   "language": "python",
   "name": "python3"
  },
  "language_info": {
   "codemirror_mode": {
    "name": "ipython",
    "version": 3
   },
   "file_extension": ".py",
   "mimetype": "text/x-python",
   "name": "python",
   "nbconvert_exporter": "python",
   "pygments_lexer": "ipython3",
   "version": "3.7.3"
  }
 },
 "nbformat": 4,
 "nbformat_minor": 2
}
